{
 "cells": [
  {
   "cell_type": "code",
   "execution_count": 13,
   "metadata": {},
   "outputs": [],
   "source": [
    "import numpy as np\n",
    "import pandas as pd\n",
    "from sklearn.model_selection import train_test_split\n",
    "from sklearn.preprocessing import StandardScaler, LabelEncoder\n",
    "from sklearn.metrics import accuracy_score, classification_report\n",
    "from sklearn.datasets import load_iris\n",
    "import tensorflow as tf\n",
    "from tensorflow.keras.models import Sequential\n",
    "from tensorflow.keras.layers import Dense"
   ]
  },
  {
   "cell_type": "code",
   "execution_count": 14,
   "metadata": {},
   "outputs": [],
   "source": [
    "# Load Iris dataset\n",
    "iris = load_iris()\n",
    "X = iris.data\n",
    "y = iris.target\n"
   ]
  },
  {
   "cell_type": "code",
   "execution_count": 15,
   "metadata": {},
   "outputs": [],
   "source": [
    "#Convert target labels to one-hot encoding\n",
    "y_one_hot = tf.keras.utils.to_categorical(y, num_classes=3)\n"
   ]
  },
  {
   "cell_type": "code",
   "execution_count": 16,
   "metadata": {},
   "outputs": [],
   "source": [
    "# Split the dataset into training and testing sets\n",
    "X_train, X_test, y_train, y_test = train_test_split(X, y_one_hot, test_size=0.2, random_state=42)\n"
   ]
  },
  {
   "cell_type": "code",
   "execution_count": 17,
   "metadata": {},
   "outputs": [],
   "source": [
    "# Standardize the features\n",
    "scaler = StandardScaler()\n",
    "X_train = scaler.fit_transform(X_train)\n",
    "X_test = scaler.transform(X_test)\n"
   ]
  },
  {
   "cell_type": "code",
   "execution_count": 18,
   "metadata": {},
   "outputs": [],
   "source": [
    "# Build a simple neural network model\n",
    "model = Sequential([\n",
    "    Dense(10, activation='relu', input_shape=(4,)),\n",
    "    Dense(3, activation='softmax')\n",
    "])\n"
   ]
  },
  {
   "cell_type": "code",
   "execution_count": 19,
   "metadata": {},
   "outputs": [],
   "source": [
    "# Compile the model\n",
    "model.compile(optimizer='adam', loss='categorical_crossentropy', metrics=['accuracy'])\n"
   ]
  },
  {
   "cell_type": "code",
   "execution_count": 20,
   "metadata": {},
   "outputs": [
    {
     "name": "stdout",
     "output_type": "stream",
     "text": [
      "Epoch 1/50\n",
      "14/14 [==============================] - 2s 38ms/step - loss: 1.1931 - accuracy: 0.1389 - val_loss: 1.1056 - val_accuracy: 0.2500\n",
      "Epoch 2/50\n",
      "14/14 [==============================] - 0s 8ms/step - loss: 1.1455 - accuracy: 0.1852 - val_loss: 1.0721 - val_accuracy: 0.3333\n",
      "Epoch 3/50\n",
      "14/14 [==============================] - 0s 7ms/step - loss: 1.1042 - accuracy: 0.2315 - val_loss: 1.0416 - val_accuracy: 0.3333\n",
      "Epoch 4/50\n",
      "14/14 [==============================] - 0s 8ms/step - loss: 1.0646 - accuracy: 0.3148 - val_loss: 1.0113 - val_accuracy: 0.5000\n",
      "Epoch 5/50\n",
      "14/14 [==============================] - 0s 13ms/step - loss: 1.0252 - accuracy: 0.4074 - val_loss: 0.9820 - val_accuracy: 0.5833\n",
      "Epoch 6/50\n",
      "14/14 [==============================] - 0s 9ms/step - loss: 0.9849 - accuracy: 0.5370 - val_loss: 0.9516 - val_accuracy: 0.5833\n",
      "Epoch 7/50\n",
      "14/14 [==============================] - 0s 8ms/step - loss: 0.9444 - accuracy: 0.5926 - val_loss: 0.9196 - val_accuracy: 0.5833\n",
      "Epoch 8/50\n",
      "14/14 [==============================] - 0s 7ms/step - loss: 0.9001 - accuracy: 0.6296 - val_loss: 0.8858 - val_accuracy: 0.7500\n",
      "Epoch 9/50\n",
      "14/14 [==============================] - 0s 9ms/step - loss: 0.8551 - accuracy: 0.6574 - val_loss: 0.8537 - val_accuracy: 0.8333\n",
      "Epoch 10/50\n",
      "14/14 [==============================] - 0s 9ms/step - loss: 0.8094 - accuracy: 0.7222 - val_loss: 0.8221 - val_accuracy: 0.7500\n",
      "Epoch 11/50\n",
      "14/14 [==============================] - 0s 8ms/step - loss: 0.7643 - accuracy: 0.7500 - val_loss: 0.7917 - val_accuracy: 0.7500\n",
      "Epoch 12/50\n",
      "14/14 [==============================] - 0s 8ms/step - loss: 0.7226 - accuracy: 0.7500 - val_loss: 0.7640 - val_accuracy: 0.7500\n",
      "Epoch 13/50\n",
      "14/14 [==============================] - 0s 8ms/step - loss: 0.6821 - accuracy: 0.7500 - val_loss: 0.7388 - val_accuracy: 0.7500\n",
      "Epoch 14/50\n",
      "14/14 [==============================] - 0s 12ms/step - loss: 0.6475 - accuracy: 0.7593 - val_loss: 0.7149 - val_accuracy: 0.7500\n",
      "Epoch 15/50\n",
      "14/14 [==============================] - 0s 15ms/step - loss: 0.6166 - accuracy: 0.7593 - val_loss: 0.6933 - val_accuracy: 0.7500\n",
      "Epoch 16/50\n",
      "14/14 [==============================] - 0s 10ms/step - loss: 0.5885 - accuracy: 0.7685 - val_loss: 0.6743 - val_accuracy: 0.7500\n",
      "Epoch 17/50\n",
      "14/14 [==============================] - 0s 10ms/step - loss: 0.5646 - accuracy: 0.7685 - val_loss: 0.6562 - val_accuracy: 0.7500\n",
      "Epoch 18/50\n",
      "14/14 [==============================] - 0s 8ms/step - loss: 0.5428 - accuracy: 0.7870 - val_loss: 0.6403 - val_accuracy: 0.7500\n",
      "Epoch 19/50\n",
      "14/14 [==============================] - 0s 7ms/step - loss: 0.5231 - accuracy: 0.7963 - val_loss: 0.6255 - val_accuracy: 0.7500\n",
      "Epoch 20/50\n",
      "14/14 [==============================] - 0s 9ms/step - loss: 0.5056 - accuracy: 0.8056 - val_loss: 0.6133 - val_accuracy: 0.7500\n",
      "Epoch 21/50\n",
      "14/14 [==============================] - 0s 8ms/step - loss: 0.4900 - accuracy: 0.8056 - val_loss: 0.6006 - val_accuracy: 0.7500\n",
      "Epoch 22/50\n",
      "14/14 [==============================] - 0s 15ms/step - loss: 0.4759 - accuracy: 0.8148 - val_loss: 0.5896 - val_accuracy: 0.7500\n",
      "Epoch 23/50\n",
      "14/14 [==============================] - 0s 27ms/step - loss: 0.4631 - accuracy: 0.8148 - val_loss: 0.5795 - val_accuracy: 0.7500\n",
      "Epoch 24/50\n",
      "14/14 [==============================] - 0s 15ms/step - loss: 0.4517 - accuracy: 0.8148 - val_loss: 0.5700 - val_accuracy: 0.7500\n",
      "Epoch 25/50\n",
      "14/14 [==============================] - 0s 10ms/step - loss: 0.4407 - accuracy: 0.8148 - val_loss: 0.5623 - val_accuracy: 0.7500\n",
      "Epoch 26/50\n",
      "14/14 [==============================] - 0s 11ms/step - loss: 0.4312 - accuracy: 0.8148 - val_loss: 0.5542 - val_accuracy: 0.7500\n",
      "Epoch 27/50\n",
      "14/14 [==============================] - 0s 9ms/step - loss: 0.4221 - accuracy: 0.8241 - val_loss: 0.5468 - val_accuracy: 0.7500\n",
      "Epoch 28/50\n",
      "14/14 [==============================] - 0s 11ms/step - loss: 0.4134 - accuracy: 0.8333 - val_loss: 0.5402 - val_accuracy: 0.7500\n",
      "Epoch 29/50\n",
      "14/14 [==============================] - 0s 11ms/step - loss: 0.4059 - accuracy: 0.8333 - val_loss: 0.5337 - val_accuracy: 0.7500\n",
      "Epoch 30/50\n",
      "14/14 [==============================] - 0s 8ms/step - loss: 0.3992 - accuracy: 0.8333 - val_loss: 0.5282 - val_accuracy: 0.7500\n",
      "Epoch 31/50\n",
      "14/14 [==============================] - 0s 9ms/step - loss: 0.3925 - accuracy: 0.8426 - val_loss: 0.5222 - val_accuracy: 0.7500\n",
      "Epoch 32/50\n",
      "14/14 [==============================] - 0s 17ms/step - loss: 0.3854 - accuracy: 0.8426 - val_loss: 0.5174 - val_accuracy: 0.7500\n",
      "Epoch 33/50\n",
      "14/14 [==============================] - 0s 15ms/step - loss: 0.3805 - accuracy: 0.8333 - val_loss: 0.5123 - val_accuracy: 0.7500\n",
      "Epoch 34/50\n",
      "14/14 [==============================] - 0s 22ms/step - loss: 0.3742 - accuracy: 0.8333 - val_loss: 0.5078 - val_accuracy: 0.7500\n",
      "Epoch 35/50\n",
      "14/14 [==============================] - 0s 11ms/step - loss: 0.3689 - accuracy: 0.8333 - val_loss: 0.5037 - val_accuracy: 0.7500\n",
      "Epoch 36/50\n",
      "14/14 [==============================] - 0s 15ms/step - loss: 0.3642 - accuracy: 0.8426 - val_loss: 0.5004 - val_accuracy: 0.7500\n",
      "Epoch 37/50\n",
      "14/14 [==============================] - 0s 8ms/step - loss: 0.3588 - accuracy: 0.8426 - val_loss: 0.4960 - val_accuracy: 0.7500\n",
      "Epoch 38/50\n",
      "14/14 [==============================] - 0s 12ms/step - loss: 0.3544 - accuracy: 0.8426 - val_loss: 0.4921 - val_accuracy: 0.7500\n",
      "Epoch 39/50\n",
      "14/14 [==============================] - 0s 9ms/step - loss: 0.3497 - accuracy: 0.8519 - val_loss: 0.4876 - val_accuracy: 0.8333\n",
      "Epoch 40/50\n",
      "14/14 [==============================] - 0s 12ms/step - loss: 0.3451 - accuracy: 0.8519 - val_loss: 0.4844 - val_accuracy: 0.8333\n",
      "Epoch 41/50\n",
      "14/14 [==============================] - 0s 9ms/step - loss: 0.3414 - accuracy: 0.8519 - val_loss: 0.4810 - val_accuracy: 0.8333\n",
      "Epoch 42/50\n",
      "14/14 [==============================] - 0s 9ms/step - loss: 0.3368 - accuracy: 0.8519 - val_loss: 0.4788 - val_accuracy: 0.7500\n",
      "Epoch 43/50\n",
      "14/14 [==============================] - 0s 10ms/step - loss: 0.3334 - accuracy: 0.8519 - val_loss: 0.4740 - val_accuracy: 0.8333\n",
      "Epoch 44/50\n",
      "14/14 [==============================] - 0s 7ms/step - loss: 0.3295 - accuracy: 0.8519 - val_loss: 0.4721 - val_accuracy: 0.8333\n",
      "Epoch 45/50\n",
      "14/14 [==============================] - 0s 12ms/step - loss: 0.3251 - accuracy: 0.8519 - val_loss: 0.4672 - val_accuracy: 0.8333\n",
      "Epoch 46/50\n",
      "14/14 [==============================] - 0s 15ms/step - loss: 0.3214 - accuracy: 0.8519 - val_loss: 0.4638 - val_accuracy: 0.8333\n",
      "Epoch 47/50\n",
      "14/14 [==============================] - 0s 10ms/step - loss: 0.3179 - accuracy: 0.8519 - val_loss: 0.4605 - val_accuracy: 0.8333\n",
      "Epoch 48/50\n",
      "14/14 [==============================] - 0s 12ms/step - loss: 0.3145 - accuracy: 0.8519 - val_loss: 0.4576 - val_accuracy: 0.8333\n",
      "Epoch 49/50\n",
      "14/14 [==============================] - 0s 10ms/step - loss: 0.3113 - accuracy: 0.8519 - val_loss: 0.4556 - val_accuracy: 0.8333\n",
      "Epoch 50/50\n",
      "14/14 [==============================] - 0s 11ms/step - loss: 0.3078 - accuracy: 0.8519 - val_loss: 0.4514 - val_accuracy: 0.9167\n"
     ]
    },
    {
     "data": {
      "text/plain": [
       "<keras.src.callbacks.History at 0x12b63dd90>"
      ]
     },
     "execution_count": 20,
     "metadata": {},
     "output_type": "execute_result"
    }
   ],
   "source": [
    "#Train the model\n",
    "model.fit(X_train, y_train, epochs=50, batch_size=8, validation_split=0.1, verbose=1)\n"
   ]
  },
  {
   "cell_type": "code",
   "execution_count": 21,
   "metadata": {},
   "outputs": [
    {
     "name": "stdout",
     "output_type": "stream",
     "text": [
      "1/1 [==============================] - 0s 251ms/step\n",
      "Accuracy: 0.9333333333333333\n"
     ]
    }
   ],
   "source": [
    "# Evaluate the model on the test set\n",
    "y_pred = model.predict(X_test)\n",
    "y_pred_classes = np.argmax(y_pred, axis=1)\n",
    "y_test_classes = np.argmax(y_test, axis=1)\n",
    "\n",
    "accuracy = accuracy_score(y_test_classes, y_pred_classes)\n",
    "print(f'Accuracy: {accuracy}')"
   ]
  },
  {
   "cell_type": "code",
   "execution_count": 22,
   "metadata": {},
   "outputs": [
    {
     "name": "stdout",
     "output_type": "stream",
     "text": [
      "Classification Report:\n",
      "              precision    recall  f1-score   support\n",
      "\n",
      "      setosa       1.00      1.00      1.00        10\n",
      "  versicolor       1.00      0.78      0.88         9\n",
      "   virginica       0.85      1.00      0.92        11\n",
      "\n",
      "    accuracy                           0.93        30\n",
      "   macro avg       0.95      0.93      0.93        30\n",
      "weighted avg       0.94      0.93      0.93        30\n",
      "\n"
     ]
    }
   ],
   "source": [
    "# Display classification report\n",
    "print('Classification Report:')\n",
    "print(classification_report(y_test_classes, y_pred_classes, target_names=iris.target_names))"
   ]
  }
 ],
 "metadata": {
  "kernelspec": {
   "display_name": "Python 3",
   "language": "python",
   "name": "python3"
  },
  "language_info": {
   "codemirror_mode": {
    "name": "ipython",
    "version": 3
   },
   "file_extension": ".py",
   "mimetype": "text/x-python",
   "name": "python",
   "nbconvert_exporter": "python",
   "pygments_lexer": "ipython3",
   "version": "3.11.4"
  }
 },
 "nbformat": 4,
 "nbformat_minor": 2
}
